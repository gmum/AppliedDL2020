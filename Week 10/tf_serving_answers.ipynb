{
 "cells": [
  {
   "cell_type": "code",
   "execution_count": 1,
   "metadata": {
    "colab": {},
    "colab_type": "code",
    "id": "qwZsn9nejH5a"
   },
   "outputs": [],
   "source": [
    "import matplotlib as mpl\n",
    "import matplotlib.pyplot as plt\n",
    "import numpy as np\n",
    "import os\n",
    "import pandas as pd\n",
    "import sklearn\n",
    "import sys\n",
    "import tensorflow as tf\n",
    "from tensorflow import keras\n",
    "import time"
   ]
  },
  {
   "cell_type": "code",
   "execution_count": 2,
   "metadata": {
    "colab": {},
    "colab_type": "code",
    "id": "qds8jeMDjhbk"
   },
   "outputs": [],
   "source": [
    "assert sys.version_info >= (3, 5) # Python ≥3.5 required\n",
    "assert tf.__version__ >= \"2.0\"    # TensorFlow ≥2.0 required"
   ]
  },
  {
   "cell_type": "code",
   "execution_count": 3,
   "metadata": {
    "colab": {
     "base_uri": "https://localhost:8080/",
     "height": 34
    },
    "colab_type": "code",
    "id": "ebziY8gtjh-i",
    "outputId": "a1fd7e66-a184-4904-8400-14846467a03c"
   },
   "outputs": [
    {
     "data": {
      "text/plain": [
       "'2.0.0-alpha0'"
      ]
     },
     "execution_count": 3,
     "metadata": {},
     "output_type": "execute_result"
    }
   ],
   "source": [
    "tf.__version__"
   ]
  },
  {
   "cell_type": "markdown",
   "metadata": {},
   "source": [
    "![](https://pbs.twimg.com/media/C4vf8SQUcAALCyl.jpg)"
   ]
  },
  {
   "cell_type": "code",
   "execution_count": 0,
   "metadata": {
    "colab": {},
    "colab_type": "code",
    "id": "bnRHSBAvjiAt"
   },
   "outputs": [],
   "source": []
  },
  {
   "cell_type": "markdown",
   "metadata": {},
   "source": [
    "# Download fashion-MNIST data\n",
    "\n",
    "And prepare train, valid, test datasets"
   ]
  },
  {
   "cell_type": "code",
   "execution_count": 4,
   "metadata": {
    "colab": {
     "base_uri": "https://localhost:8080/",
     "height": 156
    },
    "colab_type": "code",
    "id": "2Crqun1cjiDE",
    "outputId": "251d2790-b387-498c-f648-8d080ccda123"
   },
   "outputs": [
    {
     "name": "stdout",
     "output_type": "stream",
     "text": [
      "Downloading data from https://storage.googleapis.com/tensorflow/tf-keras-datasets/train-labels-idx1-ubyte.gz\n",
      "32768/29515 [=================================] - 0s 0us/step\n",
      "Downloading data from https://storage.googleapis.com/tensorflow/tf-keras-datasets/train-images-idx3-ubyte.gz\n",
      "26427392/26421880 [==============================] - 5s 0us/step\n",
      "Downloading data from https://storage.googleapis.com/tensorflow/tf-keras-datasets/t10k-labels-idx1-ubyte.gz\n",
      "8192/5148 [===============================================] - 0s 0us/step\n",
      "Downloading data from https://storage.googleapis.com/tensorflow/tf-keras-datasets/t10k-images-idx3-ubyte.gz\n",
      "4423680/4422102 [==============================] - 1s 0us/step\n"
     ]
    }
   ],
   "source": [
    "(X_train_full, y_train_full), (X_test, y_test) = keras.datasets.fashion_mnist.load_data()\n",
    "X_train_full = X_train_full / 255.\n",
    "X_test = X_test / 255.\n",
    "X_valid, X_train = X_train_full[:5000], X_train_full[5000:]\n",
    "y_valid, y_train = y_train_full[:5000], y_train_full[5000:]"
   ]
  },
  {
   "cell_type": "code",
   "execution_count": 5,
   "metadata": {
    "colab": {},
    "colab_type": "code",
    "id": "UxMLz30DjiE6"
   },
   "outputs": [],
   "source": [
    "X_train = X_train.reshape(-1,28,28,1)\n",
    "X_valid = X_valid.reshape(-1,28,28,1)\n",
    "X_test = X_test.reshape(-1,28,28,1)"
   ]
  },
  {
   "cell_type": "code",
   "execution_count": 0,
   "metadata": {
    "colab": {},
    "colab_type": "code",
    "id": "vKkqmyr-jiHL"
   },
   "outputs": [],
   "source": []
  },
  {
   "cell_type": "markdown",
   "metadata": {},
   "source": [
    "# Define and train the convolutional neural network for images classification\n",
    "\n",
    "I define the small model as I don't have a GPU on my laptop and moreover test accuracy is not the issue in this notebook."
   ]
  },
  {
   "cell_type": "code",
   "execution_count": 6,
   "metadata": {
    "colab": {},
    "colab_type": "code",
    "id": "8htrp33fl3Tn"
   },
   "outputs": [],
   "source": [
    "model = keras.models.Sequential([\n",
    "    keras.layers.Conv2D(8, kernel_size=3, activation='relu', padding='same', input_shape=(28,28,1)),\n",
    "    keras.layers.MaxPool2D(pool_size=(2, 2)),\n",
    "    keras.layers.Conv2D(16, kernel_size=3, activation='relu', padding='same'),\n",
    "    keras.layers.MaxPool2D(pool_size=(2, 2)),\n",
    "    keras.layers.Conv2D(16, kernel_size=3, activation='relu', padding='same'),\n",
    "    keras.layers.Flatten(),\n",
    "    keras.layers.Dense(10, activation='softmax')\n",
    "])\n",
    "\n",
    "\n",
    "model.compile(loss=\"sparse_categorical_crossentropy\", optimizer=\"sgd\",\n",
    "              metrics=[\"accuracy\"])"
   ]
  },
  {
   "cell_type": "code",
   "execution_count": 7,
   "metadata": {
    "colab": {
     "base_uri": "https://localhost:8080/",
     "height": 399
    },
    "colab_type": "code",
    "id": "AkNUsatDmmIH",
    "outputId": "2c4b4764-f429-4c65-e947-c4cd8162eba1"
   },
   "outputs": [
    {
     "name": "stdout",
     "output_type": "stream",
     "text": [
      "Model: \"sequential\"\n",
      "_________________________________________________________________\n",
      "Layer (type)                 Output Shape              Param #   \n",
      "=================================================================\n",
      "conv2d (Conv2D)              (None, 28, 28, 8)         80        \n",
      "_________________________________________________________________\n",
      "max_pooling2d (MaxPooling2D) (None, 14, 14, 8)         0         \n",
      "_________________________________________________________________\n",
      "conv2d_1 (Conv2D)            (None, 14, 14, 16)        1168      \n",
      "_________________________________________________________________\n",
      "max_pooling2d_1 (MaxPooling2 (None, 7, 7, 16)          0         \n",
      "_________________________________________________________________\n",
      "conv2d_2 (Conv2D)            (None, 7, 7, 16)          2320      \n",
      "_________________________________________________________________\n",
      "flatten (Flatten)            (None, 784)               0         \n",
      "_________________________________________________________________\n",
      "dense (Dense)                (None, 10)                7850      \n",
      "=================================================================\n",
      "Total params: 11,418\n",
      "Trainable params: 11,418\n",
      "Non-trainable params: 0\n",
      "_________________________________________________________________\n"
     ]
    }
   ],
   "source": [
    "model.summary()"
   ]
  },
  {
   "cell_type": "code",
   "execution_count": 8,
   "metadata": {
    "colab": {
     "base_uri": "https://localhost:8080/",
     "height": 399
    },
    "colab_type": "code",
    "id": "jJZuU45pl3WS",
    "outputId": "b63b776c-09b2-43c0-82c8-af5c2673a8fd"
   },
   "outputs": [
    {
     "name": "stdout",
     "output_type": "stream",
     "text": [
      "Train on 55000 samples, validate on 5000 samples\n",
      "Epoch 1/10\n",
      "55000/55000 [==============================] - 11s 207us/sample - loss: 2.1212 - accuracy: 0.2852 - val_loss: 1.4088 - val_accuracy: 0.5910\n",
      "Epoch 2/10\n",
      "55000/55000 [==============================] - 11s 207us/sample - loss: 0.9863 - accuracy: 0.6392 - val_loss: 0.8336 - val_accuracy: 0.7046\n",
      "Epoch 3/10\n",
      "55000/55000 [==============================] - 12s 215us/sample - loss: 0.7921 - accuracy: 0.7073 - val_loss: 0.7527 - val_accuracy: 0.7504\n",
      "Epoch 4/10\n",
      "55000/55000 [==============================] - 10s 177us/sample - loss: 0.7243 - accuracy: 0.7359 - val_loss: 0.6997 - val_accuracy: 0.7582\n",
      "Epoch 5/10\n",
      "55000/55000 [==============================] - 10s 177us/sample - loss: 0.6778 - accuracy: 0.7540 - val_loss: 0.6472 - val_accuracy: 0.7752\n",
      "Epoch 6/10\n",
      "55000/55000 [==============================] - 10s 178us/sample - loss: 0.6433 - accuracy: 0.7667 - val_loss: 0.6284 - val_accuracy: 0.7780\n",
      "Epoch 7/10\n",
      "55000/55000 [==============================] - 10s 182us/sample - loss: 0.6131 - accuracy: 0.7788 - val_loss: 0.6226 - val_accuracy: 0.7706\n",
      "Epoch 8/10\n",
      "55000/55000 [==============================] - 11s 201us/sample - loss: 0.5895 - accuracy: 0.7889 - val_loss: 0.5654 - val_accuracy: 0.8076\n",
      "Epoch 9/10\n",
      "55000/55000 [==============================] - 10s 190us/sample - loss: 0.5698 - accuracy: 0.7954 - val_loss: 0.5428 - val_accuracy: 0.8128\n",
      "Epoch 10/10\n",
      "55000/55000 [==============================] - 13s 235us/sample - loss: 0.5510 - accuracy: 0.8027 - val_loss: 0.5351 - val_accuracy: 0.8038\n"
     ]
    },
    {
     "data": {
      "text/plain": [
       "<tensorflow.python.keras.callbacks.History at 0x7face22f4a90>"
      ]
     },
     "execution_count": 8,
     "metadata": {},
     "output_type": "execute_result"
    }
   ],
   "source": [
    "model.fit(X_train, y_train, epochs=10, validation_data=(X_valid, y_valid))"
   ]
  },
  {
   "cell_type": "code",
   "execution_count": 91,
   "metadata": {},
   "outputs": [
    {
     "name": "stdout",
     "output_type": "stream",
     "text": [
      "10000/10000 [==============================] - 1s 83us/sample - loss: 0.5676 - accuracy: 0.7908\n"
     ]
    },
    {
     "data": {
      "text/plain": [
       "[0.5676319009780884, 0.7908]"
      ]
     },
     "execution_count": 91,
     "metadata": {},
     "output_type": "execute_result"
    }
   ],
   "source": [
    "model.evaluate(X_test, y_test)"
   ]
  },
  {
   "cell_type": "code",
   "execution_count": 0,
   "metadata": {
    "colab": {},
    "colab_type": "code",
    "id": "rgc-cJkIl3YT"
   },
   "outputs": [],
   "source": []
  },
  {
   "cell_type": "markdown",
   "metadata": {},
   "source": [
    "# Save the model\n",
    "\n",
    "We trained our model and now we want to use it with TensorFlow serving. However before running the server, we have to save our model.\n",
    "\n",
    "As we can use multiple model architecuters and train the same architecture multiple times, we have to name our model with its unique model version. However, newer models should have bigger versions numbers, as tf server by default runs the model with highest version."
   ]
  },
  {
   "cell_type": "code",
   "execution_count": 30,
   "metadata": {
    "colab": {},
    "colab_type": "code",
    "id": "85KWH5TQl3ad"
   },
   "outputs": [],
   "source": [
    "all_models_path = 'models'\n",
    "MODEL_NAME = \"fashion_mnist_conv\""
   ]
  },
  {
   "cell_type": "markdown",
   "metadata": {},
   "source": [
    "You can name your model with current timestamp. Then you will be sure, that newest version has the highest version number."
   ]
  },
  {
   "cell_type": "code",
   "execution_count": 31,
   "metadata": {
    "colab": {},
    "colab_type": "code",
    "id": "VnDYnadql3c4"
   },
   "outputs": [],
   "source": [
    "model_version = int(time.time())\n",
    "model_path = os.path.join(all_models_path, MODEL_NAME, str(model_version))\n",
    "os.makedirs(model_path)"
   ]
  },
  {
   "cell_type": "code",
   "execution_count": 32,
   "metadata": {
    "colab": {
     "base_uri": "https://localhost:8080/",
     "height": 34
    },
    "colab_type": "code",
    "id": "XrMucetVl3fZ",
    "outputId": "17747f98-f32f-4e9e-a7c7-3445f2f627f7"
   },
   "outputs": [
    {
     "data": {
      "text/plain": [
       "1557354435"
      ]
     },
     "execution_count": 32,
     "metadata": {},
     "output_type": "execute_result"
    }
   ],
   "source": [
    "model_version"
   ]
  },
  {
   "cell_type": "markdown",
   "metadata": {},
   "source": [
    "In tf 2.0 there is an easy way to [save](https://www.tensorflow.org/versions/r2.0/api_docs/python/tf/saved_model/save) the tf.keras.model."
   ]
  },
  {
   "cell_type": "code",
   "execution_count": 33,
   "metadata": {
    "colab": {},
    "colab_type": "code",
    "id": "N-kpYxrZl3iL"
   },
   "outputs": [],
   "source": [
    "tf.saved_model.save(model, model_path)"
   ]
  },
  {
   "cell_type": "code",
   "execution_count": null,
   "metadata": {},
   "outputs": [],
   "source": []
  },
  {
   "cell_type": "markdown",
   "metadata": {},
   "source": [
    "# CLI to inspect and execute SavedModel\n",
    "\n",
    "You can use the [SavedModel Command Line Interface (CLI)](https://www.tensorflow.org/guide/saved_model#cli_to_inspect_and_execute_savedmodel) to inspect and execute a SavedModel. For example, you can use the CLI to inspect the model's SignatureDefs. The CLI enables you to quickly confirm that the input Tensor dtype and shape match the model. Moreover, if you want to test your model, you can use the CLI to do a sanity check by passing in sample inputs in various formats (for example, Python expressions) and then fetching the output."
   ]
  },
  {
   "cell_type": "markdown",
   "metadata": {},
   "source": [
    "## Overview of commands\n",
    "\n",
    "The SavedModel CLI supports the following two commands on a MetaGraphDef in a SavedModel:\n",
    "\n",
    " - show, which shows a computation on a MetaGraphDef in a SavedModel.\n",
    " - run, which runs a computation on a MetaGraphDef.\n"
   ]
  },
  {
   "cell_type": "markdown",
   "metadata": {},
   "source": [
    "### show command\n",
    "\n",
    "A SavedModel contains one or more MetaGraphDefs, identified by their tag-sets. To serve a model, you might wonder what kind of SignatureDefs are in each model, and what are their inputs and outputs. The show command let you examine the contents of the SavedModel in hierarchical order. Here's the syntax:\n",
    "\n",
    "```bash\n",
    "saved_model_cli show [-h] --dir DIR [--all] [--tag_set TAG_SET] [--signature_def SIGNATURE_DEF_KEY]\n",
    "```"
   ]
  },
  {
   "cell_type": "markdown",
   "metadata": {},
   "source": [
    "**Try different saved_model_cli formulas**"
   ]
  },
  {
   "cell_type": "code",
   "execution_count": 13,
   "metadata": {
    "colab": {
     "base_uri": "https://localhost:8080/",
     "height": 52
    },
    "colab_type": "code",
    "id": "7BJIfGuDl3km",
    "outputId": "f9ec16b0-4382-47bd-9795-625c2218549d"
   },
   "outputs": [
    {
     "name": "stdout",
     "output_type": "stream",
     "text": [
      "The given SavedModel contains the following tag-sets:\r\n",
      "serve\r\n"
     ]
    }
   ],
   "source": [
    "!saved_model_cli show --dir {model_path}"
   ]
  },
  {
   "cell_type": "code",
   "execution_count": 14,
   "metadata": {
    "colab": {
     "base_uri": "https://localhost:8080/",
     "height": 69
    },
    "colab_type": "code",
    "id": "M8rM70RVoKQV",
    "outputId": "67cd097b-53f0-43e1-b338-177323d942fe"
   },
   "outputs": [
    {
     "name": "stdout",
     "output_type": "stream",
     "text": [
      "The given SavedModel MetaGraphDef contains SignatureDefs with the following keys:\r\n",
      "SignatureDef key: \"__saved_model_init_op\"\r\n",
      "SignatureDef key: \"serving_default\"\r\n"
     ]
    }
   ],
   "source": [
    "!saved_model_cli show --dir {model_path} --tag_set serve"
   ]
  },
  {
   "cell_type": "code",
   "execution_count": 15,
   "metadata": {
    "colab": {
     "base_uri": "https://localhost:8080/",
     "height": 208
    },
    "colab_type": "code",
    "id": "b2Z4fBJmoKS9",
    "outputId": "3ecf1e3a-d4b7-4a55-a90b-098e686732a3"
   },
   "outputs": [
    {
     "name": "stdout",
     "output_type": "stream",
     "text": [
      "The given SavedModel SignatureDef contains the following input(s):\r\n",
      "  inputs['conv2d_input'] tensor_info:\r\n",
      "      dtype: DT_FLOAT\r\n",
      "      shape: (-1, 28, 28, 1)\r\n",
      "      name: serving_default_conv2d_input:0\r\n",
      "The given SavedModel SignatureDef contains the following output(s):\r\n",
      "  outputs['dense'] tensor_info:\r\n",
      "      dtype: DT_FLOAT\r\n",
      "      shape: (-1, 10)\r\n",
      "      name: StatefulPartitionedCall:0\r\n",
      "Method name is: tensorflow/serving/predict\r\n"
     ]
    }
   ],
   "source": [
    "!saved_model_cli show --dir {model_path} --tag_set serve --signature_def serving_default"
   ]
  },
  {
   "cell_type": "code",
   "execution_count": 16,
   "metadata": {
    "colab": {
     "base_uri": "https://localhost:8080/",
     "height": 434
    },
    "colab_type": "code",
    "id": "3aCGtTdkoKXr",
    "outputId": "62ef1688-88d6-4ff2-bbe2-737a0cd5dd2a"
   },
   "outputs": [
    {
     "name": "stdout",
     "output_type": "stream",
     "text": [
      "\r\n",
      "MetaGraphDef with tag-set: 'serve' contains the following SignatureDefs:\r\n",
      "\r\n",
      "signature_def['__saved_model_init_op']:\r\n",
      "  The given SavedModel SignatureDef contains the following input(s):\r\n",
      "  The given SavedModel SignatureDef contains the following output(s):\r\n",
      "    outputs['__saved_model_init_op'] tensor_info:\r\n",
      "        dtype: DT_INVALID\r\n",
      "        shape: unknown_rank\r\n",
      "        name: NoOp\r\n",
      "  Method name is: \r\n",
      "\r\n",
      "signature_def['serving_default']:\r\n",
      "  The given SavedModel SignatureDef contains the following input(s):\r\n",
      "    inputs['conv2d_input'] tensor_info:\r\n",
      "        dtype: DT_FLOAT\r\n",
      "        shape: (-1, 28, 28, 1)\r\n",
      "        name: serving_default_conv2d_input:0\r\n",
      "  The given SavedModel SignatureDef contains the following output(s):\r\n",
      "    outputs['dense'] tensor_info:\r\n",
      "        dtype: DT_FLOAT\r\n",
      "        shape: (-1, 10)\r\n",
      "        name: StatefulPartitionedCall:0\r\n",
      "  Method name is: tensorflow/serving/predict\r\n"
     ]
    }
   ],
   "source": [
    "!saved_model_cli show --dir {model_path} --all"
   ]
  },
  {
   "cell_type": "code",
   "execution_count": null,
   "metadata": {},
   "outputs": [],
   "source": []
  },
  {
   "cell_type": "markdown",
   "metadata": {
    "colab": {},
    "colab_type": "code",
    "id": "uMciTyBgoKVx"
   },
   "source": [
    "### run command\n",
    "\n",
    "Invoke the run command to run a graph computation, passing inputs and then displaying (and optionally saving) the outputs. Here's the syntax:\n",
    "\n",
    "```bash\n",
    "saved_model_cli run [-h] --dir DIR --tag_set TAG_SET --signature_def\n",
    "                           SIGNATURE_DEF_KEY [--inputs INPUTS]\n",
    "                           [--input_exprs INPUT_EXPRS]\n",
    "                           [--input_examples INPUT_EXAMPLES] [--outdir OUTDIR]\n",
    "                           [--overwrite] [--tf_debug]\n",
    "```\n",
    "\n",
    "The run command provides the following three ways to pass inputs to the model:\n",
    "\n",
    " - *inputs* option enables you to pass numpy ndarray in files.\n",
    " - *input_exprs* option enables you to pass Python expressions.\n",
    " - *input_examples* option enables you to pass tf.train.Example.\n",
    "\n",
    "Here we will use the *inputs* option.\n",
    "\n",
    "To pass input data in files, specify the --inputs option, which takes the following general format:\n",
    "\n",
    "```bash\n",
    "--inputs <input_key>=<filename>\n",
    "```"
   ]
  },
  {
   "cell_type": "markdown",
   "metadata": {},
   "source": [
    "**Input layer name**\n",
    "\n",
    "In order to pass the testing data to our trained model, we have to know the name of its input layer and pass it to *saved_model_cli* as *input_key*."
   ]
  },
  {
   "cell_type": "code",
   "execution_count": 18,
   "metadata": {
    "colab": {
     "base_uri": "https://localhost:8080/",
     "height": 34
    },
    "colab_type": "code",
    "id": "M7eun6sIl3nK",
    "outputId": "dcb39e65-d5d6-4bb3-f614-2022881f2e88"
   },
   "outputs": [
    {
     "data": {
      "text/plain": [
       "'conv2d_input'"
      ]
     },
     "execution_count": 18,
     "metadata": {},
     "output_type": "execute_result"
    }
   ],
   "source": [
    "input_name = model.input_names[0]\n",
    "input_name"
   ]
  },
  {
   "cell_type": "markdown",
   "metadata": {},
   "source": [
    "**Prepare small testing dataset**\n",
    "\n",
    "We want to test our model. Take 3 images from the tesing dataset, and [save it](https://docs.scipy.org/doc/numpy/reference/generated/numpy.save.html) as *saved_model_cli* takes the *filename* as argument."
   ]
  },
  {
   "cell_type": "code",
   "execution_count": 57,
   "metadata": {
    "colab": {},
    "colab_type": "code",
    "id": "j3mHssGqoKNB"
   },
   "outputs": [],
   "source": [
    "X_query = X_test[:3]\n",
    "y_query = y_test[:3]\n",
    "np.save(\"exemplary_tests.npy\", X_query, allow_pickle=False)"
   ]
  },
  {
   "cell_type": "markdown",
   "metadata": {},
   "source": [
    "**saved_model_cli run**\n",
    "\n",
    "Specify arguments and run testing data."
   ]
  },
  {
   "cell_type": "code",
   "execution_count": 19,
   "metadata": {
    "colab": {
     "base_uri": "https://localhost:8080/",
     "height": 697
    },
    "colab_type": "code",
    "id": "yk6OxEukl3pn",
    "outputId": "f9bf4149-5e30-4646-ddd4-eb56bd48f735"
   },
   "outputs": [
    {
     "name": "stdout",
     "output_type": "stream",
     "text": [
      "2019-05-08 18:45:34.709105: I tensorflow/core/platform/cpu_feature_guard.cc:142] Your CPU supports instructions that this TensorFlow binary was not compiled to use: AVX2 FMA\n",
      "2019-05-08 18:45:34.730706: I tensorflow/core/platform/profile_utils/cpu_utils.cc:94] CPU Frequency: 2712000000 Hz\n",
      "2019-05-08 18:45:34.731337: I tensorflow/compiler/xla/service/service.cc:162] XLA service 0x55bed1f3e110 executing computations on platform Host. Devices:\n",
      "2019-05-08 18:45:34.731363: I tensorflow/compiler/xla/service/service.cc:169]   StreamExecutor device (0): <undefined>, <undefined>\n",
      "WARNING: Logging before flag parsing goes to stderr.\n",
      "W0508 18:45:34.732563 140588033390400 deprecation.py:323] From /home/lukasz.maziarka/anaconda3/envs/tf_serving/lib/python3.7/site-packages/tensorflow/python/tools/saved_model_cli.py:339: load (from tensorflow.python.saved_model.loader_impl) is deprecated and will be removed in a future version.\n",
      "Instructions for updating:\n",
      "This function will only be available through the v1 compatibility library as tf.compat.v1.saved_model.loader.load or tf.compat.v1.saved_model.load. There will be a new function for importing SavedModels in Tensorflow 2.0.\n",
      "W0508 18:45:34.756445 140588033390400 deprecation.py:323] From /home/lukasz.maziarka/anaconda3/envs/tf_serving/lib/python3.7/site-packages/tensorflow/python/training/saver.py:1276: checkpoint_exists (from tensorflow.python.training.checkpoint_management) is deprecated and will be removed in a future version.\n",
      "Instructions for updating:\n",
      "Use standard file APIs to check for files with this prefix.\n",
      "Result for output key dense:\n",
      "[[4.3633426e-07 4.0503457e-07 2.2700424e-06 1.2379893e-06 1.2809109e-05\n",
      "  1.1002892e-01 4.9155301e-06 3.1026900e-01 7.1715028e-03 5.7250851e-01]\n",
      " [3.6364258e-04 1.9417283e-05 9.0676957e-01 1.8491958e-04 2.0212485e-02\n",
      "  3.0408705e-07 7.2366536e-02 5.6726263e-11 8.3159546e-05 8.3154417e-10]\n",
      " [1.3909488e-03 9.9500400e-01 3.9044739e-05 3.1368455e-03 2.9802942e-04\n",
      "  5.2055915e-10 1.2844468e-04 2.5786994e-07 2.4611486e-06 2.8390292e-09]]\n"
     ]
    }
   ],
   "source": [
    "!saved_model_cli run --dir {model_path} --tag_set serve \\\n",
    "                     --signature_def serving_default    \\\n",
    "                     --inputs {input_name}=exemplary_tests.npy"
   ]
  },
  {
   "cell_type": "code",
   "execution_count": 0,
   "metadata": {
    "colab": {},
    "colab_type": "code",
    "id": "51Ev-pBFR4d3"
   },
   "outputs": [],
   "source": []
  },
  {
   "cell_type": "markdown",
   "metadata": {},
   "source": [
    "# Prepare docker server with our trained model\n",
    "\n",
    "To this end, one of the easiest ways to serve machine learning models is by using TensorFlow Serving with Docker. Docker is a tool that packages software into units called containers that include everything needed to run the software.\n",
    "\n",
    "In the following subsection we will prepare the docker image that serves our model and try to get the classifications for testing data."
   ]
  },
  {
   "cell_type": "markdown",
   "metadata": {
    "colab": {},
    "colab_type": "code",
    "id": "SkZRHxiSR4rH"
   },
   "source": [
    "First, we have to run the docker with the proper image. We can do it in two steps.\n",
    "\n",
    "\n",
    "1. Download the docker image\n",
    "```bash\n",
    "sudo docker pull tensorflow/serving\n",
    "```\n",
    "\n",
    "2. Run the image\n",
    "```bash\n",
    "sudo docker run -it --rm -p 8501:8501 \\\n",
    "   -v \"`pwd`/models/fashion_mnist_conv:/models/fashion_mnist_conv\" \\\n",
    "   -e MODEL_NAME=fashion_mnist_conv \\\n",
    "   tensorflow/serving\n",
    "```"
   ]
  },
  {
   "cell_type": "markdown",
   "metadata": {},
   "source": [
    "### REST API\n",
    "\n",
    "TensorFlow ModelServer also supports [RESTful APIs](https://www.tensorflow.org/tfx/serving/api_rest).\n",
    "\n",
    "The request and response is a JSON object. The composition of this object depends on the request type or verb. \n",
    "\n",
    "Below we will show how to use REST API, together with tf serving, and then make an example client that sends the test image to docker and gets the classification answer."
   ]
  },
  {
   "cell_type": "code",
   "execution_count": 22,
   "metadata": {
    "colab": {},
    "colab_type": "code",
    "id": "uJUDZQ8QR4tc"
   },
   "outputs": [],
   "source": [
    "import json\n",
    "import requests"
   ]
  },
  {
   "cell_type": "markdown",
   "metadata": {},
   "source": [
    "#### [Model status API](https://www.tensorflow.org/tfx/serving/api_rest#model_status_api)\n",
    "\n",
    "This API returns the status of a model in the ModelServer.\n",
    "\n",
    "\n",
    "```bash\n",
    "GET http://host:port/v1/models/${MODEL_NAME}[/versions/${MODEL_VERSION}]\n",
    "```\n",
    "\n",
    "*/versions/${MODEL_VERSION}* is optional. If omitted status for **all** versions is returned in the response."
   ]
  },
  {
   "cell_type": "code",
   "execution_count": 45,
   "metadata": {},
   "outputs": [
    {
     "data": {
      "text/plain": [
       "{'model_version_status': [{'version': '1557354435',\n",
       "   'state': 'AVAILABLE',\n",
       "   'status': {'error_code': 'OK', 'error_message': ''}}]}"
      ]
     },
     "execution_count": 45,
     "metadata": {},
     "output_type": "execute_result"
    }
   ],
   "source": [
    "SERVER_URL = 'http://localhost:8501/v1/models/fashion_mnist_conv'\n",
    "\n",
    "response = requests.get(SERVER_URL)\n",
    "response.raise_for_status()\n",
    "response = response.json()\n",
    "\n",
    "response"
   ]
  },
  {
   "cell_type": "code",
   "execution_count": null,
   "metadata": {},
   "outputs": [],
   "source": []
  },
  {
   "cell_type": "markdown",
   "metadata": {},
   "source": [
    "#### [Model Metadata API](https://www.tensorflow.org/tfx/serving/api_rest#model_metadata_api)\n",
    "\n",
    "This API returns the metadata of a model in the ModelServer.\n",
    "\n",
    "```bash\n",
    "GET http://host:port/v1/models/${MODEL_NAME}[/versions/${MODEL_VERSION}]/metadata\n",
    "```\n",
    "\n",
    "*/versions/${MODEL_VERSION}* is optional. If omitted the model metadata for the **latest** version is returned in the response."
   ]
  },
  {
   "cell_type": "code",
   "execution_count": 46,
   "metadata": {},
   "outputs": [
    {
     "data": {
      "text/plain": [
       "{'model_spec': {'name': 'fashion_mnist_conv',\n",
       "  'signature_name': '',\n",
       "  'version': '1557354435'},\n",
       " 'metadata': {'signature_def': {'signature_def': {'serving_default': {'inputs': {'conv2d_input': {'dtype': 'DT_FLOAT',\n",
       "       'tensor_shape': {'dim': [{'size': '-1', 'name': ''},\n",
       "         {'size': '28', 'name': ''},\n",
       "         {'size': '28', 'name': ''},\n",
       "         {'size': '1', 'name': ''}],\n",
       "        'unknown_rank': False},\n",
       "       'name': 'serving_default_conv2d_input:0'}},\n",
       "     'outputs': {'dense': {'dtype': 'DT_FLOAT',\n",
       "       'tensor_shape': {'dim': [{'size': '-1', 'name': ''},\n",
       "         {'size': '10', 'name': ''}],\n",
       "        'unknown_rank': False},\n",
       "       'name': 'StatefulPartitionedCall:0'}},\n",
       "     'method_name': 'tensorflow/serving/predict'},\n",
       "    '__saved_model_init_op': {'inputs': {},\n",
       "     'outputs': {'__saved_model_init_op': {'dtype': 'DT_INVALID',\n",
       "       'tensor_shape': {'dim': [], 'unknown_rank': True},\n",
       "       'name': 'NoOp'}},\n",
       "     'method_name': ''}}}}}"
      ]
     },
     "execution_count": 46,
     "metadata": {},
     "output_type": "execute_result"
    }
   ],
   "source": [
    "SERVER_URL = 'http://localhost:8501/v1/models/fashion_mnist_conv/metadata'\n",
    "\n",
    "response = requests.get(SERVER_URL)\n",
    "response.raise_for_status()\n",
    "response = response.json()\n",
    "\n",
    "response"
   ]
  },
  {
   "cell_type": "code",
   "execution_count": null,
   "metadata": {},
   "outputs": [],
   "source": []
  },
  {
   "cell_type": "markdown",
   "metadata": {},
   "source": [
    "#### [Predict API](https://www.tensorflow.org/tfx/serving/api_rest#predict_api)\n",
    "\n",
    "This API closely follows the PredictionService.Predict gRPC API.\n",
    "\n",
    "```bash\n",
    "POST http://host:port/v1/models/${MODEL_NAME}[/versions/${MODEL_VERSION}]:predict\n",
    "```\n",
    "\n",
    "*/versions/${MODEL_VERSION}* is optional. If omitted the **latest** version is used.\n",
    "\n",
    "\n",
    "**Request format**\n",
    "\n",
    "The request body for predict API must be JSON object formatted as follows:\n",
    "\n",
    "```python\n",
    "{\n",
    "  // (Optional) Serving signature to use.\n",
    "  // If unspecifed default serving signature is used.\n",
    "  \"signature_name\": <string>,\n",
    "\n",
    "  // Input Tensors in row (\"instances\") or columnar (\"inputs\") format.\n",
    "  // A request can have either of them but NOT both.\n",
    "  \"instances\": <value>|<(nested)list>|<list-of-objects>\n",
    "  \"inputs\": <value>|<(nested)list>|<object>\n",
    "}\n",
    "```\n",
    "\n",
    "**Examples**\n",
    "\n",
    "1. Row representation\n",
    "\n",
    "```python\n",
    "{\n",
    " \"instances\": [\n",
    "   {\n",
    "     \"tag\": \"foo\",\n",
    "     \"signal\": [1, 2, 3, 4, 5],\n",
    "     \"sensor\": [[1, 2], [3, 4]]\n",
    "   },\n",
    "   {\n",
    "     \"tag\": \"bar\",\n",
    "     \"signal\": [3, 4, 1, 2, 5],\n",
    "     \"sensor\": [[4, 5], [6, 8]]\n",
    "   }\n",
    " ]\n",
    "}\n",
    "```\n",
    "\n",
    "2. Columnar representation\n",
    "\n",
    "```python\n",
    "{\n",
    " \"inputs\": {\n",
    "   \"tag\": [\"foo\", \"bar\"],\n",
    "   \"signal\": [[1, 2, 3, 4, 5], [3, 4, 1, 2, 5]],\n",
    "   \"sensor\": [[[1, 2], [3, 4]], [[4, 5], [6, 8]]]\n",
    " }\n",
    "}\n",
    "```"
   ]
  },
  {
   "cell_type": "markdown",
   "metadata": {},
   "source": [
    "**Prepare the json with input data**\n",
    "\n",
    "We already created some small array with 3 test images. Pass them to json (in representation that you prefer) and post this json to the server."
   ]
  },
  {
   "cell_type": "code",
   "execution_count": 39,
   "metadata": {
    "colab": {},
    "colab_type": "code",
    "id": "sRJlv3HzR4ka"
   },
   "outputs": [
    {
     "name": "stdout",
     "output_type": "stream",
     "text": [
      "{\"signature_name\": \"serving_default\", \"instances\": [[[[0.0], [0.0], [0.0], [0.0], [0.0], [0.0], [0.0], [0.0], [0.0], [0.0], [0.0], [0.0], [0.0], [0.0], [0.0], [0.0], [0.0], [0.0], [0.0], [0.0], [0.0],...5294117647059], [0.2784313725490196], [0.0], [0.0], [0.26666666666666666], [0.6901960784313725], [0.6431372549019608], [0.22745098039215686], [0.0], [0.0], [0.0], [0.0], [0.0], [0.0], [0.0], [0.0]]]]}\n"
     ]
    }
   ],
   "source": [
    "input_data_json = json.dumps({\n",
    "    \"signature_name\": \"serving_default\",\n",
    "    \"instances\": X_query.tolist(),\n",
    "})\n",
    "print(input_data_json[:200] + \"...\" + input_data_json[-200:])"
   ]
  },
  {
   "cell_type": "code",
   "execution_count": 47,
   "metadata": {
    "colab": {},
    "colab_type": "code",
    "id": "maOjrRnnR4gl"
   },
   "outputs": [
    {
     "data": {
      "text/plain": [
       "{'predictions': [[4.36335e-07,\n",
       "   4.05034e-07,\n",
       "   2.27004e-06,\n",
       "   1.23799e-06,\n",
       "   1.28091e-05,\n",
       "   0.110029,\n",
       "   4.91553e-06,\n",
       "   0.310268,\n",
       "   0.00717149,\n",
       "   0.572509],\n",
       "  [0.000363642,\n",
       "   1.94173e-05,\n",
       "   0.90677,\n",
       "   0.000184919,\n",
       "   0.0202125,\n",
       "   3.04087e-07,\n",
       "   0.0723665,\n",
       "   5.67259e-11,\n",
       "   8.31599e-05,\n",
       "   8.31543e-10],\n",
       "  [0.00139096,\n",
       "   0.995004,\n",
       "   3.90449e-05,\n",
       "   0.00313686,\n",
       "   0.00029803,\n",
       "   5.20561e-10,\n",
       "   0.000128445,\n",
       "   2.57871e-07,\n",
       "   2.46117e-06,\n",
       "   2.83903e-09]]}"
      ]
     },
     "execution_count": 47,
     "metadata": {},
     "output_type": "execute_result"
    }
   ],
   "source": [
    "SERVER_URL = 'http://localhost:8501/v1/models/fashion_mnist_conv:predict'\n",
    "            \n",
    "response = requests.post(SERVER_URL, data=input_data_json)\n",
    "response.raise_for_status()\n",
    "response = response.json()\n",
    "\n",
    "response"
   ]
  },
  {
   "cell_type": "code",
   "execution_count": 54,
   "metadata": {
    "colab": {},
    "colab_type": "code",
    "id": "YsKtTxAQl3sA"
   },
   "outputs": [
    {
     "data": {
      "text/plain": [
       "array([[0.  , 0.  , 0.  , 0.  , 0.  , 0.11, 0.  , 0.31, 0.01, 0.57],\n",
       "       [0.  , 0.  , 0.91, 0.  , 0.02, 0.  , 0.07, 0.  , 0.  , 0.  ],\n",
       "       [0.  , 1.  , 0.  , 0.  , 0.  , 0.  , 0.  , 0.  , 0.  , 0.  ]])"
      ]
     },
     "execution_count": 54,
     "metadata": {},
     "output_type": "execute_result"
    }
   ],
   "source": [
    "y_proba = np.array(response[\"predictions\"])\n",
    "y_proba.round(2)"
   ]
  },
  {
   "cell_type": "code",
   "execution_count": 58,
   "metadata": {},
   "outputs": [
    {
     "data": {
      "text/plain": [
       "(array([9, 2, 1]), array([9, 2, 1], dtype=uint8))"
      ]
     },
     "execution_count": 58,
     "metadata": {},
     "output_type": "execute_result"
    }
   ],
   "source": [
    "np.argmax(y_proba, axis=-1), y_new"
   ]
  },
  {
   "cell_type": "code",
   "execution_count": null,
   "metadata": {},
   "outputs": [],
   "source": []
  },
  {
   "cell_type": "markdown",
   "metadata": {},
   "source": [
    "#### Prepare the function that queries the server for the whole testing dataset and returns the network accuracy\n",
    "\n",
    "And compare it with test accuracy that we computed earlier."
   ]
  },
  {
   "cell_type": "code",
   "execution_count": 89,
   "metadata": {},
   "outputs": [],
   "source": [
    "def query_for_answers(X_test, SERVER_URL, batch_size=16):\n",
    "    good_answers = 0\n",
    "    \n",
    "    for i in list(range(0, X_test.shape[0], batch_size)):\n",
    "        X_query = X_test[i:(i+batch_size)]\n",
    "        y_query = y_test[i:(i+batch_size)]\n",
    "        \n",
    "        input_data_json = json.dumps({\n",
    "            \"signature_name\": \"serving_default\",\n",
    "            \"instances\": X_query.tolist(),\n",
    "        })\n",
    "\n",
    "        response = requests.post(SERVER_URL, data=input_data_json)\n",
    "        response.raise_for_status()\n",
    "        response = response.json()\n",
    "        \n",
    "        y_proba = np.array(response[\"predictions\"])\n",
    "        good_answers += np.sum(np.argmax(y_proba, axis=-1) == y_query)\n",
    "        \n",
    "    return good_answers / X_test.shape[0]"
   ]
  },
  {
   "cell_type": "code",
   "execution_count": 90,
   "metadata": {},
   "outputs": [
    {
     "data": {
      "text/plain": [
       "0.7908"
      ]
     },
     "execution_count": 90,
     "metadata": {},
     "output_type": "execute_result"
    }
   ],
   "source": [
    "query_for_answers(X_test, SERVER_URL, batch_size=128)"
   ]
  },
  {
   "cell_type": "code",
   "execution_count": null,
   "metadata": {},
   "outputs": [],
   "source": []
  },
  {
   "cell_type": "markdown",
   "metadata": {},
   "source": [
    "# Images sources\n",
    "\n",
    "Images and code fragments used in this notebook comes from the following web pages and papers:\n",
    "\n",
    "1. https://github.com/ageron/tf2_course/blob/master/04_deploy_and_distribute_tf2.ipynb\n",
    "2. https://twitter.com/tensorflow/status/832008382408126464"
   ]
  },
  {
   "cell_type": "code",
   "execution_count": null,
   "metadata": {},
   "outputs": [],
   "source": []
  }
 ],
 "metadata": {
  "accelerator": "GPU",
  "colab": {
   "collapsed_sections": [],
   "name": "Untitled0.ipynb",
   "provenance": [],
   "version": "0.3.2"
  },
  "kernelspec": {
   "display_name": "Python 3",
   "language": "python",
   "name": "python3"
  },
  "language_info": {
   "codemirror_mode": {
    "name": "ipython",
    "version": 3
   },
   "file_extension": ".py",
   "mimetype": "text/x-python",
   "name": "python",
   "nbconvert_exporter": "python",
   "pygments_lexer": "ipython3",
   "version": "3.7.0"
  }
 },
 "nbformat": 4,
 "nbformat_minor": 1
}
